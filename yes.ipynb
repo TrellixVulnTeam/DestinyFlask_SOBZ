{
 "metadata": {
  "language_info": {
   "codemirror_mode": {
    "name": "ipython",
    "version": 3
   },
   "file_extension": ".py",
   "mimetype": "text/x-python",
   "name": "python",
   "nbconvert_exporter": "python",
   "pygments_lexer": "ipython3",
   "version": "3.8.10"
  },
  "orig_nbformat": 2,
  "kernelspec": {
   "name": "pythonjvsc74a57bd0897af211d8eee12eeff02568c37882195e7f64186c1a6fa4b5dbb7719313fd55",
   "display_name": "Python 3.8.10  ('env': venv)"
  },
  "metadata": {
   "interpreter": {
    "hash": "897af211d8eee12eeff02568c37882195e7f64186c1a6fa4b5dbb7719313fd55"
   }
  }
 },
 "nbformat": 4,
 "nbformat_minor": 2,
 "cells": [
  {
   "cell_type": "code",
   "execution_count": 55,
   "metadata": {
    "tags": []
   },
   "outputs": [],
   "source": [
    "from bs4 import BeautifulSoup\n",
    "import pandas as pd\n",
    "import numpy as np\n",
    "import requests\n",
    "\n",
    "df = pd.DataFrame()\n",
    "html_text = requests.get('https://www.blueberries.gg/weapons/destiny-2-exotic-tier-list/').text\n",
    "soup = BeautifulSoup(html_text,'lxml')\n",
    "table = soup.find('tbody', class_ = 'row-hover')\n",
    "rows = table.find_all('tr')\n",
    "weaponlist = []\n",
    "weaponimageslist = []\n",
    "weapontypelist = []\n",
    "for row in rows:\n",
    "    weapon = row.find('div', class_ = 'weapon')\n",
    "    weaponlist.append(weapon.text)\n",
    "\n",
    "    weaponType = row.find('span', class_ = 'type')\n",
    "    weapontypelist.append(weaponType.text.replace(\"|\",''))\n",
    "\n",
    "    weaponimage = row.find('img', {\"title\":\"Destiny 2 Exotic Tier List: All 81 weapons ranked for PVE & PVP\"})\n",
    "    weaponimageslist.append(weaponimage['src'])\n",
    "    \n",
    "\n",
    "\n",
    "# for x in weapons:\n",
    "#     weaponlist.append(x.text)\n",
    "df.insert(0,\"Weapon\", weaponlist, True)\n",
    "\n",
    "# for x in weaponTypes:\n",
    "#     weapontypelist.append(x.text.replace('|',''))\n",
    "df.insert(1,\"Weapon Type\", weapontypelist, True)\n",
    "    \n",
    "# for x in weaponimages:\n",
    "#     weaponimagelist.append(x['src'])\n",
    "df.insert(2,\"Image\", weaponimageslist, True)\n",
    "df\n",
    "\n",
    "df.to_json(r'C:\\Users\\Tavo\\Documents\\DestinyWeapons\\myweapons.json', orient = 'index')\n"
   ]
  },
  {
   "cell_type": "code",
   "execution_count": null,
   "metadata": {},
   "outputs": [],
   "source": []
  },
  {
   "cell_type": "code",
   "execution_count": null,
   "metadata": {},
   "outputs": [],
   "source": []
  }
 ]
}